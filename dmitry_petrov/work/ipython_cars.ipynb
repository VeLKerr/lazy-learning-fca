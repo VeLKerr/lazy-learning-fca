{
 "metadata": {
  "name": "",
  "signature": "sha256:9b8ef7cfbd9c76f222d2a95750f31faf97eb0e06b32eac4b61cd806c7bb494de"
 },
 "nbformat": 3,
 "nbformat_minor": 0,
 "worksheets": [
  {
   "cells": [
    {
     "cell_type": "code",
     "collapsed": false,
     "input": [
      "#\u0413\u0440\u0443\u0437\u0438\u043c \u0434\u0430\u043d\u043d\u044b\u0435\n",
      "\n",
      "q=open(\"car.data\",\"r\")\n",
      "train = [ a.strip().split(\",\") for a in q]\n",
      "#plus = [a for a in train if a[6]==\"acc\" or a[6]==\"good\" or a[6]==\"v-good\"]\n",
      "#minus = [a for a in train if a[6]==\"unacc\"]\n",
      "\n",
      "print(len(train))\n",
      "\n",
      "#print('len train:', len(train))\n",
      "\n"
     ],
     "language": "python",
     "metadata": {},
     "outputs": [
      {
       "output_type": "stream",
       "stream": "stdout",
       "text": [
        "1728\n"
       ]
      }
     ],
     "prompt_number": 51
    },
    {
     "cell_type": "code",
     "collapsed": false,
     "input": [
      "#\u041e\u0431\u0440\u0430\u0431\u0430\u0442\u044b\u0432\u0430\u0435\u043c \u0434\u0430\u043d\u043d\u044b\u0435 \u0434\u043b\u044f \u0430\u043d\u0430\u043b\u0438\u0437\u0430\n",
      "\n",
      "\"\"\"   \n",
      "index    name         values                   replacement values\n",
      "0        buying       vhigh, high, med, low   11, 10, 01, 00\n",
      "1        maint        vhigh, high, med, low   11, 10, 01, 00\n",
      "2        doors        2, 3, 4, 5-more          00, 01, 10, 11\n",
      "3        persons      2, 4, more               00, 10, 11\n",
      "4        lug_boot     small, med, big          01, 10, 11\n",
      "5        safety       low, med, high           01, 10, 11\n",
      "\"\"\"\n",
      "\n",
      "data = [['','','','','','',''] for x in range(len(train))]\n",
      "#print(len(data))\n",
      "\n",
      "replacement_dict = {\n",
      " \"vhigh\": '11',\n",
      " \"high\": '10',\n",
      " \"med\": '01',\n",
      " \"low\": '00',\n",
      " \"2\": '00',\n",
      " \"3\": '01',\n",
      " \"4\": '10',\n",
      " \"5more\": '11',\n",
      " \"more\": '11',\n",
      " \"small\": '01',\n",
      " \"low\": '01',\n",
      " \"med\": '10',\n",
      " \"big\": '11',\n",
      " \"high\": '11',\n",
      " \"acc\": '1',\n",
      " \"good\": '1',\n",
      " \"vgood\": '1',\n",
      " \"unacc\": '0',\n",
      "}\n",
      "\n",
      "\n",
      "for i in range(0, len(data)):\n",
      "    for j in range(0, 7):\n",
      "        data[i][j] = replacement_dict[train[i][j]]\n",
      "\n",
      "#print(train[0])\n",
      "#print(data[0])\n",
      "\n",
      "for i in range(0,len(data)):\n",
      "    data[i] = ''.join(data[i])\n",
      "    \n",
      "#print(len(data[0]))\n",
      "    "
     ],
     "language": "python",
     "metadata": {},
     "outputs": [],
     "prompt_number": 66
    },
    {
     "cell_type": "code",
     "collapsed": false,
     "input": [
      "#\u0414\u0435\u043b\u0430\u0435\u043c \u0442\u0440\u0435\u043d\u0438\u0440\u043e\u0432\u043e\u0447\u043d\u0443\u044e \u0438 \u0442\u0435\u0441\u0442\u043e\u0432\u0443\u044e \u0432\u044b\u0431\u043e\u0440\u043a\u0438 \n",
      "\n",
      "plus = [a for a in data if a[-1]==\"1\"] #\u043f\u043e\u043b\u043d\u044b\u0439 \u043f\u043e\u043b\u043e\u0436\u0438\u0442\u0435\u043b\u044c\u043d\u044b\u0439 \u043a\u043e\u043d\u0442\u0435\u043a\u0441\u0442\n",
      "minus = [a for a in data if a[-1]==\"0\"] #\u043f\u043e\u043b\u043d\u044b\u0439 \u043e\u0442\u0440\u0438\u0446\u0430\u0442\u0435\u043b\u044c\u043d\u044b\u0439 \u043a\u043e\u043d\u0442\u0435\u043a\u0441\u0442\n",
      "\n",
      "from random import shuffle\n",
      "\n",
      "plus_shuffle = []\n",
      "plus_shuffle = plus\n",
      "shuffle(plus_shuffle)\n",
      "print(plus_shuffle[0])\n",
      "minus_shuffle = []\n",
      "minus_shuffle = minus\n",
      "shuffle(minus_shuffle)\n",
      "print(minus_shuffle[0])\n",
      "\n",
      "train = plus_shuffle[:100]+minus_shuffle[:100]\n",
      "test = plus_shuffle[101:201]+minus_shuffle[101:201]\n",
      "remain = plus_shuffle[200:]+minus_shuffle[200:]\n",
      "print(len(train))\n",
      "print(len(test))\n",
      "print(len(remain))\n",
      "\n",
      "#print(plus)\n",
      "#print(minus)"
     ],
     "language": "python",
     "metadata": {},
     "outputs": [
      {
       "output_type": "stream",
       "stream": "stdout",
       "text": [
        "1001111111101\n",
        "1011110011010\n",
        "200\n",
        "200\n",
        "1328\n"
       ]
      }
     ],
     "prompt_number": 89
    },
    {
     "cell_type": "code",
     "collapsed": false,
     "input": [
      "#\u0411\u0438\u043d\u0430\u0440\u0438\u0437\u0443\u0435\u043c \u043d\u0430\u0448\u0438 \u043a\u043e\u043d\u0442\u0435\u043a\u0441\u0442\u044b\n",
      "train_bin = []\n",
      "test_bin = []\n",
      "for i in range(0,len(train)):\n",
      "    temp = ''.join(train[i][:-1])\n",
      "    train_bin.append(int(temp,2))\n",
      "    temp = ''.join(train[i][:-1])\n",
      "    train_bin.append(int(temp,2))\n",
      "\n",
      "print(train)"
     ],
     "language": "python",
     "metadata": {},
     "outputs": []
    },
    {
     "cell_type": "code",
     "collapsed": false,
     "input": [
      "#\u0424\u0443\u043d\u043a\u0446\u0438\u044f \u043f\u043e\u0434\u0441\u0447\u0435\u0442\u0430 \u0433\u043e\u043b\u043e\u0441\u043e\u0432 \u0434\u043b\u044f \u043d\u0435\u0438\u0437\u0432\u0435\u0441\u0442\u043d\u043e\u0433\u043e \u043e\u0431\u044a\u0435\u043a\u0442\u0430\n",
      "def get_vote(to_detect, plus_bin, minus_bin):\n",
      "    vote_count = 0\n",
      "    for i in range(0,len(plus)-1):\n",
      "        mask = to_detect & plus_bin[i]\n",
      "        vote_count += falsify(mask, minus_bin)\n",
      "    for i in range(0,len(plus)-1):\n",
      "        mask = to_detect & minus_bin[i]\n",
      "        vote_count -= falsify(mask, plus_bin)\n",
      "    return vote_count\n",
      "\n",
      "#\u0414\u043b\u044f \u043a\u0430\u0436\u0434\u043e\u0433\u043e \u044d\u043b\u0435\u043c\u0435\u043d\u0442\u0430 \u0438\u0437 \u0442\u0440\u0435\u043d\u0438\u0440\u043e\u0432\u043e\u0447\u043d\u043e\u0433\u043e \u043d\u0430\u0431\u043e\u0440\u0430 \u0441\u0447\u0438\u0442\u0430\u0435\u043c, \u0441\u043a\u043e\u043b\u044c\u043a\u043e \u0433\u043e\u043b\u043e\u0441\u043e\u0432 \u0437\u0430 \u043d\u0435\u0433\u043e\n",
      "for i in range(0, len(train)):\n",
      "    det_str = train[i][1:]\n",
      "    to_detect = int(''.join(det_str))\n",
      "    vote = get_vote(to_detect, plus_bin, minus_bin)\n",
      "    vote_list.append(vote)\n",
      "    #print('vote for object #', i, '('+''.join(det_str)+')', vote)"
     ],
     "language": "python",
     "metadata": {},
     "outputs": [],
     "prompt_number": 75
    },
    {
     "cell_type": "code",
     "collapsed": false,
     "input": [],
     "language": "python",
     "metadata": {},
     "outputs": [],
     "prompt_number": 75
    },
    {
     "cell_type": "code",
     "collapsed": false,
     "input": [],
     "language": "python",
     "metadata": {},
     "outputs": []
    }
   ],
   "metadata": {}
  }
 ]
}