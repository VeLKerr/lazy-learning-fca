{
 "metadata": {
  "name": "",
  "signature": "sha256:14c4cda25ab753905f629c438dfe5eaa39e0c4b6b96ad5d31ef607a81daa9241"
 },
 "nbformat": 3,
 "nbformat_minor": 0,
 "worksheets": [
  {
   "cells": [
    {
     "cell_type": "code",
     "collapsed": false,
     "input": [
      "from numpy import *\n",
      "\n",
      "q=open(\"spect.train\",\"r\")\n",
      "train = [ a.strip().split(\",\") for a in q]\n",
      "plus = [a for a in train if a[0]==\"1\"]\n",
      "minus = [a for a in train if a[0]==\"0\"]\n",
      "train_joined = [''.join(a) for a in train]\n",
      "\n",
      "#print('len train:', len(train))\n",
      "#print('len of one plus:', len(plus[0]), 'overall len plus:', len(plus))\n",
      "#print('len of one minus:', len(plus[0]), 'overall len minus: ', len(minus))\n",
      "q.close()\n",
      "\n",
      "q=open(\"spect.test\",\"r\")\n",
      "test = [ a.strip().split(\",\") for a in q]\n",
      "test_joined = [''.join(a) for a in test]\n",
      "q.close\n",
      "\n",
      "#print(len(test_joined))\n",
      "#for i in test_joined:\n",
      "#    print(i)\n",
      "\n",
      "#test1 = ''.join(train[0])\n",
      "#test2 = ''.join(train[1])\n",
      "#train_bin = []\n",
      "#print(test1)\n",
      "#print(bin(int(test1,2)))\n",
      "\n",
      "for i in range(0,len(train)):\n",
      "    temp = ''.join(train[i][1:])\n",
      "    train_bin.append(int(temp,2))\n",
      "\n",
      "#print(len(train_bin), len(train))\n",
      "plus_bin = train_bin[0:39]\n",
      "minus_bin = train_bin[40:79]\n",
      "\n",
      "#print(type(plus_bin[1]))\n",
      "\n",
      "#det_str = train[43][1:]\n",
      "#print(det_str)\n",
      "#to_detect = int(''.join(det_str))\n",
      "#print(to_detect)\n",
      "\n",
      "vote_list = []\n",
      "\n",
      "def falsify(mask_bin, context_bin):\n",
      "    for i in range(0,len(context_bin)-1):\n",
      "        if mask_bin & context_bin[i] == mask_bin:\n",
      "            return 0\n",
      "        else:\n",
      "            return 1\n",
      "\n",
      "def get_vote(to_detect, plus_bin, minus_bin):\n",
      "    vote_count = 0\n",
      "    for i in range(0,len(plus)-1):\n",
      "        mask = to_detect & plus_bin[i]\n",
      "        vote_count += falsify(mask, minus_bin)\n",
      "    for i in range(0,len(plus)-1):\n",
      "        mask = to_detect & minus_bin[i]\n",
      "        vote_count -= falsify(mask, plus_bin)\n",
      "    return vote_count\n",
      "\n",
      "for i in range(0, len(train)):\n",
      "    det_str = train[i][1:]\n",
      "    to_detect = int(''.join(det_str))\n",
      "    vote = get_vote(to_detect, plus_bin, minus_bin)\n",
      "    vote_list.append(vote)\n",
      "    #print('vote for object #', i, '('+''.join(det_str)+')', vote)\n",
      "    \n",
      "#print(mean(vote_list[0:39]),std(vote_list[0:39])/sqrt(40))\n",
      "#print(mean(vote_list[40:89]),std(vote_list[40:89])/sqrt(40))\n",
      "\n",
      "cv_res = {\n",
      " \"11\": 0,\n",
      " \"10\": 0,\n",
      " \"01\": 0,\n",
      " \"00\": 0,\n",
      " \"NaN\": 0,\n",
      "}\n",
      "\n",
      "for i in test_joined:\n",
      "    det_str = i[1:]\n",
      "    to_detect = int(''.join(det_str))\n",
      "    vote = get_vote(to_detect, plus_bin, minus_bin)\n",
      "    if vote > 11:\n",
      "        decision = '1'\n",
      "    else:\n",
      "        decision = '0'\n",
      "    if i[0] == '1' and decision == '1':\n",
      "        cv_res['11'] +=1\n",
      "    elif i[0] == '1' and decision == '0':\n",
      "        cv_res['10'] +=1\n",
      "    elif i[0] == '0' and decision == '1':\n",
      "        cv_res['01'] +=1\n",
      "    elif i[0] == '0' and decision == '0':\n",
      "        cv_res['00'] +=1\n",
      "    else:\n",
      "        cv_res['NaN'] +=1\n",
      "        \n",
      "print(cv_res)\n",
      "print('accuracy: ', (cv_res['11']+cv_res['00'])/(cv_res['11']+cv_res['00']+cv_res['01']+cv_res['10']+cv_res['NaN']))\n",
      "    \n"
     ],
     "language": "python",
     "metadata": {},
     "outputs": [
      {
       "output_type": "stream",
       "stream": "stdout",
       "text": [
        "{'01': 7, 'NaN': 0, '11': 139, '00': 8, '10': 33}\n",
        "accuracy:  0.786096256684492\n"
       ]
      }
     ],
     "prompt_number": 173
    },
    {
     "cell_type": "code",
     "collapsed": false,
     "input": [
      "test1 = ''.join(train[0])\n",
      "test2 = ''.join(train[1])\n",
      "train_bin = []\n",
      "print(test1)\n",
      "print(bin(int(test1,2)))\n",
      "\n",
      "for i in range(0,len(train)):\n",
      "    temp = ''.join(train[i][1:])\n",
      "    train_bin.append(int(temp,2))\n",
      "\n",
      "print(len(train_bin), len(train))\n",
      "plus_bin = train_bin[0:39]\n",
      "minus_bin = train_bin[40:79]\n",
      "\n",
      "print(type(plus_bin[1]))\n"
     ],
     "language": "python",
     "metadata": {},
     "outputs": [
      {
       "output_type": "stream",
       "stream": "stdout",
       "text": [
        "10001000110001100000000\n",
        "0b10001000110001100000000\n",
        "80 80\n",
        "<class 'int'>\n"
       ]
      }
     ],
     "prompt_number": 70
    },
    {
     "cell_type": "code",
     "collapsed": false,
     "input": [
      "det_str = train[43][1:]\n",
      "print(det_str)\n",
      "to_detect = int(''.join(det_str))\n",
      "print(to_detect)\n",
      "\n",
      "vote_list = []\n",
      "\n",
      "def falsify(mask_bin, context_bin):\n",
      "    for i in range(0,len(context_bin)-1):\n",
      "        if mask_bin & context_bin[i] == mask_bin:\n",
      "            return 0\n",
      "        else:\n",
      "            return 1\n",
      "\n",
      "def get_vote(to_detect, plus_bin, minus_bin):\n",
      "    vote_count = 0\n",
      "    for i in range(0,len(plus)-1):\n",
      "        mask = to_detect & plus_bin[i]\n",
      "        vote_count += falsify(mask, minus_bin)\n",
      "    for i in range(0,len(plus)-1):\n",
      "        mask = to_detect & minus_bin[i]\n",
      "        vote_count -= falsify(mask, plus_bin)\n",
      "    return vote_count\n",
      "\n",
      "for i in range(0, len(train)):\n",
      "    det_str = train[i][1:]\n",
      "    to_detect = int(''.join(det_str))\n",
      "    vote = get_vote(to_detect, plus_bin, minus_bin)\n",
      "    vote_list.append(vote)\n",
      "    print('vote for object #', i, '('+''.join(det_str)+')', vote)\n"
     ],
     "language": "python",
     "metadata": {},
     "outputs": [
      {
       "output_type": "stream",
       "stream": "stdout",
       "text": [
        "['0', '0', '0', '1', '0', '0', '0', '0', '0', '0', '0', '0', '0', '0', '0', '0', '0', '0', '0', '0', '0', '0']\n",
        "1000000000000000000\n",
        "vote for object # 0 (0001000110001100000000) 21\n",
        "vote for object # 1 (0011000110001100000001) 16\n",
        "vote for object # 2 (1010100101001000000000) 18\n",
        "vote for object # 3 (0000000000100000000111) 15\n",
        "vote for object # 4 (0000000100001011000000) 16\n",
        "vote for object # 5 (0001000010001101000101) 13\n",
        "vote for object # 6 (1011000101011000000011) 15\n",
        "vote for object # 7 (0010000100001000000001) 12\n",
        "vote for object # 8 (0010001100001010000011) 13\n",
        "vote for object # 9 (0100001100100000000000) 19\n",
        "vote for object # 10 (1100101001111001111101) 14\n",
        "vote for object # 11 (1100111011110100101100) 17\n",
        "vote for object # 12 (1000100001001000000011) 13\n",
        "vote for object # 13 (0100001000010001010011) 15\n",
        "vote for object # 14 (1011001110111111011011) 14\n",
        "vote for object # 15 (0110011100011001110111) 14\n",
        "vote for object # 16 (0011000110001101000010) 18\n",
        "vote for object # 17 (0000001000000000000001) 15\n",
        "vote for object # 18 (1010101101011000100110) 15\n",
        "vote for object # 19 (1000100001001000000100) 15\n",
        "vote for object # 20 (0000001000111000000011) 15\n",
        "vote for object # 21 (1000110100100000001100) 15\n",
        "vote for object # 22 (1100111001110000001000) 14\n",
        "vote for object # 23 (0000000100001000000000) 26\n",
        "vote for object # 24 (0000010000100000101000) 13\n",
        "vote for object # 25 (0000001000010001000000) 19\n",
        "vote for object # 26 (0001001010010100000010) 17\n",
        "vote for object # 27 (0000000000000000000100) 14\n",
        "vote for object # 28 (0000000000000000000001) -7\n",
        "vote for object # 29 (1011100001001101000111) 12\n",
        "vote for object # 30 (0000000000000000000000) 0\n",
        "vote for object # 31 (0000000000000000000000) 0\n",
        "vote for object # 32 (1100111001110000101001) 13\n",
        "vote for object # 33 (0111001110111001110011) 12\n",
        "vote for object # 34 (1011100111001110000010) 15\n",
        "vote for object # 35 (1111110000111101111101) 11\n",
        "vote for object # 36 (1110101111011101000111) 15\n",
        "vote for object # 37 (1001000001100000000000) 18\n",
        "vote for object # 38 (1000100001000000001000) 14\n",
        "vote for object # 39 (1011000111001111001100) 17\n",
        "vote for object # 40 (0000000000000000000001) -7\n",
        "vote for object # 41 (0000000000001000000000) 18\n",
        "vote for object # 42 (0000000010000100000000) 16\n",
        "vote for object # 43 (0001000000000000000000) 13\n",
        "vote for object # 44 (0100001000010000000010) 20\n",
        "vote for object # 45 (1000100001000000000001) 7\n",
        "vote for object # 46 (0000000000011000000100) 19\n",
        "vote for object # 47 (0011000100000000000000) 20\n",
        "vote for object # 48 (0000000000000000000000) 0\n",
        "vote for object # 49 (0000000000000000000100) 14\n",
        "vote for object # 50 (0001000010000010000101) 10\n",
        "vote for object # 51 (0000000000000000000000) 0\n",
        "vote for object # 52 (0000000000000000000000) 0\n",
        "vote for object # 53 (0010000000001000000000) 23\n",
        "vote for object # 54 (1000101001010000000001) 14\n",
        "vote for object # 55 (0100010000000000000000) 7\n",
        "vote for object # 56 (0000000000000000001100) 14\n",
        "vote for object # 57 (1110101111100101001010) 19\n",
        "vote for object # 58 (0000000000000000000000) 0\n",
        "vote for object # 59 (0000000000000000000000) 0\n",
        "vote for object # 60 (1000100000100000000000) 22\n",
        "vote for object # 61 (0000000000000000000000) 0\n",
        "vote for object # 62 (0000000000000000000001) -7\n",
        "vote for object # 63 (0000000000000000000000) 0\n",
        "vote for object # 64 (0000000000000000000000) 0\n",
        "vote for object # 65 (0000000000000000000000) 0\n",
        "vote for object # 66 (0000000000000000000001) -7\n",
        "vote for object # 67 (0000000000000000000000) 0\n",
        "vote for object # 68 (1000100000000000000000) 9\n",
        "vote for object # 69 (0000000000000000000000) 0\n",
        "vote for object # 70 (0010000100000000000000) 17\n",
        "vote for object #"
       ]
      },
      {
       "output_type": "stream",
       "stream": "stdout",
       "text": [
        " 71 (0000010000100000000000) 21\n",
        "vote for object # 72 (1000101001010000001000) 16\n",
        "vote for object # 73 (1010000101001000000010) 19\n",
        "vote for object # 74 (0000000000000000000000) 0\n",
        "vote for object # 75 (1000100001000000000000) 11\n",
        "vote for object # 76 (1000110011000100001100) 15\n",
        "vote for object # 77 (1000100001000000001000) 14\n",
        "vote for object # 78 (0011001000011100000011) 11\n",
        "vote for object # 79 (1000100000000000000000) 9\n"
       ]
      }
     ],
     "prompt_number": 117
    },
    {
     "cell_type": "code",
     "collapsed": false,
     "input": [
      "cv_res = {\n",
      " \"11\": 0,\n",
      " \"10\": 0,\n",
      " \"01\": 0,\n",
      " \"00\": 0,\n",
      " \"NaN\": 0,\n",
      "}\n",
      "\n",
      "for i in test_joined:\n",
      "    det_str = i[1:]\n",
      "    to_detect = int(''.join(det_str))\n",
      "    vote = get_vote(to_detect, plus_bin, minus_bin)\n",
      "    if vote > 11:\n",
      "        decision = '1'\n",
      "    else:\n",
      "        decision = '0'\n",
      "    if i[0] == '1' and decision == '1':\n",
      "        cv_res['11'] +=1\n",
      "    elif i[0] == '1' and decision == '0':\n",
      "        cv_res['10'] +=1\n",
      "    elif i[0] == '0' and decision == '1':\n",
      "        cv_res['01'] +=1\n",
      "    elif i[0] == '0' and decision == '0':\n",
      "        cv_res['00'] +=1\n",
      "    else:\n",
      "        cv_res['NaN'] +=1\n",
      "        \n",
      "print(cv_res)\n",
      "    \n",
      "    \n",
      "    \n"
     ],
     "language": "python",
     "metadata": {},
     "outputs": [
      {
       "output_type": "stream",
       "stream": "stdout",
       "text": [
        "{'01': 7, 'NaN': 0, '11': 139, '00': 8, '10': 33}\n"
       ]
      }
     ],
     "prompt_number": 165
    },
    {
     "cell_type": "code",
     "collapsed": false,
     "input": [
      "(cv_res['11']+cv_res['00'])/187"
     ],
     "language": "python",
     "metadata": {},
     "outputs": [
      {
       "metadata": {},
       "output_type": "pyout",
       "prompt_number": 163,
       "text": [
        "0.786096256684492"
       ]
      }
     ],
     "prompt_number": 163
    },
    {
     "cell_type": "code",
     "collapsed": false,
     "input": [
      "cv_res['01']/187"
     ],
     "language": "python",
     "metadata": {},
     "outputs": [
      {
       "metadata": {},
       "output_type": "pyout",
       "prompt_number": 167,
       "text": [
        "0.0374331550802139"
       ]
      }
     ],
     "prompt_number": 167
    },
    {
     "cell_type": "code",
     "collapsed": false,
     "input": [
      "from numpy import *\n",
      "\n",
      "print(mean(vote_list[0:39]),std(vote_list[0:39])/sqrt(40))\n",
      "print(mean(vote_list[40:89]),std(vote_list[40:89])/sqrt(40))\n"
     ],
     "language": "python",
     "metadata": {},
     "outputs": [
      {
       "output_type": "stream",
       "stream": "stdout",
       "text": [
        "13.9487179487 0.871889135175\n",
        "8.925 1.41482662365\n"
       ]
      }
     ],
     "prompt_number": 137
    },
    {
     "cell_type": "code",
     "collapsed": false,
     "input": [
      "mean(vote_list[0:39])-2*std(vote_list[0:39])/sqrt(40)"
     ],
     "language": "python",
     "metadata": {},
     "outputs": [
      {
       "metadata": {},
       "output_type": "pyout",
       "prompt_number": 143,
       "text": [
        "12.204939678367252"
       ]
      }
     ],
     "prompt_number": 143
    },
    {
     "cell_type": "code",
     "collapsed": false,
     "input": [
      "mean(vote_list[40:89])+2*std(vote_list[40:89])/sqrt(40)"
     ],
     "language": "python",
     "metadata": {},
     "outputs": [
      {
       "metadata": {},
       "output_type": "pyout",
       "prompt_number": 144,
       "text": [
        "11.754653247307875"
       ]
      }
     ],
     "prompt_number": 144
    },
    {
     "cell_type": "code",
     "collapsed": false,
     "input": [],
     "language": "python",
     "metadata": {},
     "outputs": []
    }
   ],
   "metadata": {}
  }
 ]
}